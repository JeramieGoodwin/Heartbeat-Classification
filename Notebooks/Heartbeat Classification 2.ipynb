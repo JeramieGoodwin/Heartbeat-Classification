{
 "cells": [
  {
   "cell_type": "code",
   "execution_count": 10,
   "metadata": {},
   "outputs": [],
   "source": [
    "import numpy as np\n",
    "import os\n",
    "import librosa\n",
    "import glob\n",
    "import matplotlib.pyplot as plt\n",
    "import tensorflow as tf\n",
    "from matplotlib.pyplot import specgram\n",
    "import librosa.display\n",
    "%matplotlib inline"
   ]
  },
  {
   "cell_type": "markdown",
   "metadata": {},
   "source": [
    "parent_dir = '.'\n",
    "sub_dir = 'set_a'\n",
    "file_ext = '*.wav'\n",
    "audio_len = []\n",
    "for f in glob.glob(os.path.join(parent_dir,sub_dir,file_ext)):\n",
    "    s,_ = librosa.load(f)\n",
    "    audio_len.append(len(s))"
   ]
  },
  {
   "cell_type": "markdown",
   "metadata": {},
   "source": [
    "print(\"The minimum audio length is {0}: \\nThe maximum audio length is: {1}\".format(min(audio_len),max(audio_len)))"
   ]
  },
  {
   "cell_type": "code",
   "execution_count": 12,
   "metadata": {
    "collapsed": true
   },
   "outputs": [],
   "source": [
    "def load_sounds(file_path):\n",
    "    raw_sound = []\n",
    "    for fp in file_path:\n",
    "        X,sr = librosa.load(fp)\n",
    "        raw_sound.append(X)\n",
    "    return raw_sound\n",
    "\n",
    "def plot_waves(sound_names,raw_sounds):\n",
    "    i = 1\n",
    "    fig = plt.figure(figsize=(25,60),dpi=900)\n",
    "    for n,f in zip(sound_names,raw_sounds):\n",
    "        plt.subplot(5,1,i)\n",
    "        librosa.display.waveplot(np.array(f))\n",
    "        plt.title(n.title())\n",
    "        i += 1\n",
    "    plt.suptitle('Figure 1:Waveplot',x=0.5,y=0.915,fontsize=18)\n",
    "    plt.show()\n",
    "\n",
    "def plot_specgram(sound_names,raw_sounds):\n",
    "    i = 1\n",
    "    fig = plt.figure(figsize=(25,60), dpi = 900)\n",
    "    for n,f in zip(sound_names,raw_sounds):\n",
    "        plt.subplot(5,1,i)\n",
    "        specgram(np.array(f), Fs=22050)\n",
    "        plt.title(n.title())\n",
    "        i += 1\n",
    "    plt.suptitle('Figure 2: Spectrogram',x=0.5, y=0.915,fontsize=18)\n",
    "    plt.show()\n",
    "\n",
    "def plot_log_power_specgram(sound_names,raw_sounds):\n",
    "    i = 1\n",
    "    fig = plt.figure(figsize=(25,60), dpi = 900)\n",
    "    for n,f in zip(sound_names,raw_sounds):\n",
    "        plt.subplot(5,1,i)\n",
    "        D = librosa.logamplitude(np.abs(librosa.stft(f))**2, ref_power=np.max)\n",
    "        librosa.display.specshow(D,x_axis='time' ,y_axis='log')\n",
    "        plt.title(n.title())\n",
    "        i += 1\n",
    "    plt.suptitle('Figure 3: Log power spectrogram',x=0.5, y=0.915,fontsize=18)\n",
    "    plt.show()"
   ]
  },
  {
   "cell_type": "code",
   "execution_count": null,
   "metadata": {},
   "outputs": [],
   "source": [
    "#os.listdir()[0:3]\n",
    "sound_files = ['artifact__201012172012.wav','Aunlabelledtest__2011040239.wav',\n",
    "              'extrahls__201101070953.wav','murmur__201102051443.wav','normal__201106210943.wav']\n",
    "sound_lables = ['artifact','UNlabeled','extrahls','murmur','normal']\n",
    "\n",
    "raw_sounds = load_sounds(sound_files)\n",
    "plot_waves(sound_lables,raw_sounds)\n",
    "#plot_specgram(sound_lables,raw_sounds)\n",
    "#plot_log_power_specgram(sound_lables,raw_sounds)"
   ]
  },
  {
   "cell_type": "code",
   "execution_count": null,
   "metadata": {
    "collapsed": true
   },
   "outputs": [],
   "source": [
    "def repeat_to_length(arr, length):\n",
    "    results = np.empty((length,),dtype='float32')\n",
    "    l = len(arr)\n",
    "    pos = 0\n",
    "    while pos + l <= length:\n",
    "        results[pos:pos+l] = arr\n",
    "        pos += l\n",
    "    if pos < length:\n",
    "        results[pos:length] = arr[:length-pos]\n",
    "    return results"
   ]
  },
  {
   "cell_type": "code",
   "execution_count": null,
   "metadata": {
    "collapsed": true
   },
   "outputs": [],
   "source": [
    "def extract_features(file_name):\n",
    "    X,sr = librosa.load(file_name)\n",
    "    x_len = len(X)\n",
    "    MAX_LEN = max(x_len)\n",
    "    X = repeat_to_length(X,MAX_LEN)\n",
    "    stft = np.abs(librosa.stft(X))\n",
    "    mfccs = np.mean(librosa.feature.mfcc(y=X,sr=sr,n_mfcc=40).T,axis=0)\n",
    "    chroma = np.mean(librosa.feature.chroma_stft(S=stft,sr=sr).T,axis=0)\n",
    "    mel = np.mean(librosa.feature.melspectrogram(X,sr=sr).T,axis=0)\n",
    "    contrast = np.mean(librosa.feature.tonnetz(y=librosa.effects.harmonic(X),sr=sr).T,axis=0)\n",
    "    tonnetz = np.mean(librosa.feature.tonnetz(y=librosa.effects.harmonic(X), sr=sr).T,axis=0)\n",
    "    return mfccs,chroma,mel,contrast,tonnetz    "
   ]
  },
  {
   "cell_type": "code",
   "execution_count": null,
   "metadata": {
    "collapsed": true
   },
   "outputs": [],
   "source": [
    "def parse_audio_fies(parent_dir, sub_dirs, file_ext = '*.wav' ):\n",
    "    features, labels = np.empty((0,175)), np.empty(0)\n",
    "    for label, sub_dir in enumerate(sub_dirs):\n",
    "        for fn in glob.glob(os.path.join(parent_dir,sub_dir,file_ext)):\n",
    "            mfccs,chroma,mel,contrast,tonnetz = extract_features(fn)\n",
    "            ext_features = np.hstack([mfccs,chroma,mel,contrast,tonnetz])\n",
    "            features = np.vstack([features,ext_features])\n",
    "            labels = np.append(labels,fn.split('__'))\n",
    "    return np.array(features),np.array(labels)"
   ]
  },
  {
   "cell_type": "code",
   "execution_count": null,
   "metadata": {
    "collapsed": true
   },
   "outputs": [],
   "source": []
  }
 ],
 "metadata": {
  "kernelspec": {
   "display_name": "Python 3",
   "language": "python",
   "name": "python3"
  },
  "language_info": {
   "codemirror_mode": {
    "name": "ipython",
    "version": 3
   },
   "file_extension": ".py",
   "mimetype": "text/x-python",
   "name": "python",
   "nbconvert_exporter": "python",
   "pygments_lexer": "ipython3",
   "version": "3.6.0"
  }
 },
 "nbformat": 4,
 "nbformat_minor": 2
}
